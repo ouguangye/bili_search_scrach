{
 "cells": [
  {
   "cell_type": "code",
   "execution_count": 1,
   "id": "5bedbf51",
   "metadata": {},
   "outputs": [],
   "source": [
    "import requests"
   ]
  },
  {
   "cell_type": "code",
   "execution_count": 2,
   "id": "14f2bd6c",
   "metadata": {},
   "outputs": [],
   "source": [
    "url = 'https://api.bilibili.com/x/web-interface/search/type?&search_type=video&page_size=50'"
   ]
  },
  {
   "cell_type": "code",
   "execution_count": 3,
   "id": "542d040c",
   "metadata": {},
   "outputs": [],
   "source": [
    "headers = {'User-agent':'Mozilla/5.0 (Windows NT 10.0; WOW64) AppleWebKit/537.36 (KHTML, like Gecko) Chrome/80.0.3987.87 Safari/537.36 SE 2.X MetaSr 1.0'}"
   ]
  },
  {
   "cell_type": "code",
   "execution_count": 4,
   "id": "66328168",
   "metadata": {},
   "outputs": [],
   "source": [
    "page_size = 65"
   ]
  },
  {
   "cell_type": "code",
   "execution_count": 5,
   "id": "1dd367cd",
   "metadata": {},
   "outputs": [],
   "source": [
    "order = [(\"综合排序\",\"\"),(\"最多点击\",\"click\"),(\"最新发布\",\"pubdate\"),(\"最多弹幕\",\"dm\"),(\"最多收藏\",\"stow\")]"
   ]
  },
  {
   "cell_type": "code",
   "execution_count": 6,
   "id": "bfef58e3",
   "metadata": {},
   "outputs": [],
   "source": [
    "url = 'https://api.bilibili.com/x/web-interface/search/type'"
   ]
  },
  {
   "cell_type": "code",
   "execution_count": 7,
   "id": "579b147a",
   "metadata": {},
   "outputs": [],
   "source": [
    "type = \"video\""
   ]
  },
  {
   "cell_type": "code",
   "execution_count": 8,
   "id": "027a4800",
   "metadata": {},
   "outputs": [],
   "source": [
    "page_size = 50"
   ]
  },
  {
   "cell_type": "markdown",
   "id": "b76a8895",
   "metadata": {},
   "source": [
    "请求格式： \n",
    "\n",
    "    链接： https://api.bilibili.com/x/web-interface/search/type?&search_type=video&page_size=50&page=1&order=pubdate&keyword=%E6%9C%BA%E5%99%A8%E5%AD%A6%E4%B9%A0\n",
    "    \n",
    "    r = requests.get(url,params={\"search_type\":type , \"page_size\":page_size, \"order\":\"pubdate\",\"keyword\":\"计算机组成原理\"},headers=headers)"
   ]
  },
  {
   "cell_type": "code",
   "execution_count": 9,
   "id": "6c337af0",
   "metadata": {},
   "outputs": [
    {
     "data": {
      "text/plain": [
       "'{\"code\":-412,\"message\":\"请求被拦截\",\"ttl\":1,\"data\":null}'"
      ]
     },
     "execution_count": 9,
     "metadata": {},
     "output_type": "execute_result"
    }
   ],
   "source": [
    "r = requests.get(url,params={\"search_type\":type , \"page_size\":page_size, \"order\":\"pubdate\",\"keyword\":\"计算机组成原理\"},headers=headers)\n",
    "r.text"
   ]
  },
  {
   "cell_type": "code",
   "execution_count": 10,
   "id": "947c9163",
   "metadata": {},
   "outputs": [],
   "source": [
    "import json\n",
    "import jsonpath"
   ]
  },
  {
   "cell_type": "code",
   "execution_count": 11,
   "id": "58d71bd1",
   "metadata": {},
   "outputs": [
    {
     "data": {
      "text/plain": [
       "{'code': -412, 'message': '请求被拦截', 'ttl': 1, 'data': None}"
      ]
     },
     "execution_count": 11,
     "metadata": {},
     "output_type": "execute_result"
    }
   ],
   "source": [
    "data = json.loads(r.text)\n",
    "data"
   ]
  },
  {
   "cell_type": "code",
   "execution_count": 12,
   "id": "64798c4f",
   "metadata": {
    "scrolled": true
   },
   "outputs": [],
   "source": [
    "data = data[\"data\"]"
   ]
  },
  {
   "cell_type": "code",
   "execution_count": 13,
   "id": "56096713",
   "metadata": {},
   "outputs": [
    {
     "ename": "TypeError",
     "evalue": "'NoneType' object is not subscriptable",
     "output_type": "error",
     "traceback": [
      "\u001b[1;31m---------------------------------------------------------------------------\u001b[0m",
      "\u001b[1;31mTypeError\u001b[0m                                 Traceback (most recent call last)",
      "\u001b[1;32m~\\AppData\\Local\\Temp/ipykernel_23320/3619165103.py\u001b[0m in \u001b[0;36m<module>\u001b[1;34m\u001b[0m\n\u001b[1;32m----> 1\u001b[1;33m \u001b[0mdata\u001b[0m \u001b[1;33m=\u001b[0m \u001b[0mdata\u001b[0m\u001b[1;33m[\u001b[0m\u001b[1;34m\"result\"\u001b[0m\u001b[1;33m]\u001b[0m\u001b[1;33m\u001b[0m\u001b[1;33m\u001b[0m\u001b[0m\n\u001b[0m",
      "\u001b[1;31mTypeError\u001b[0m: 'NoneType' object is not subscriptable"
     ]
    }
   ],
   "source": [
    "data = data[\"result\"]"
   ]
  },
  {
   "cell_type": "code",
   "execution_count": null,
   "id": "ca1d5f94",
   "metadata": {},
   "outputs": [],
   "source": [
    "data"
   ]
  },
  {
   "cell_type": "code",
   "execution_count": null,
   "id": "2ce4a8ab",
   "metadata": {},
   "outputs": [],
   "source": [
    "data[0]"
   ]
  },
  {
   "cell_type": "code",
   "execution_count": null,
   "id": "a4b9b14b",
   "metadata": {},
   "outputs": [],
   "source": [
    "data[0][\"author\"]"
   ]
  },
  {
   "cell_type": "code",
   "execution_count": null,
   "id": "60999eea",
   "metadata": {},
   "outputs": [],
   "source": [
    "import xlwt"
   ]
  },
  {
   "cell_type": "markdown",
   "id": "aae10fcc",
   "metadata": {},
   "source": [
    "#### 这里我们定义一个储存数据的函数"
   ]
  },
  {
   "cell_type": "code",
   "execution_count": null,
   "id": "6025e98b",
   "metadata": {},
   "outputs": [],
   "source": [
    "def processStr(s1,s2):\n",
    "    if s2 in s1:\n",
    "        s1 = s1.replace(s2,'')\n",
    "        #print(s1)\n",
    "    return s1\n",
    "\n",
    "def save(data,name):\n",
    "    f = xlwt.Workbook()\n",
    "    sheet1 = f.add_sheet('sheet1',cell_overwrite_ok=True)\n",
    "    column = [\"author\",\"title\",\"description\",\"typename\",\"tag\",\"url\"]\n",
    "    for i in range(len(column)):\n",
    "        sheet1.write(0,i,column[i])\n",
    "\n",
    "    for i in range(len(data)):\n",
    "        title = processStr(data[i][\"title\"],\"<em class=\\\"keyword\\\">\")\n",
    "        title = processStr(title,\"</em>\")\n",
    "        \n",
    "        sheet1.write(i+1,0,data[i][\"author\"])\n",
    "        sheet1.write(i+1,1,title)\n",
    "        sheet1.write(i+1,2,data[i][\"description\"])\n",
    "        sheet1.write(i+1,3,data[i][\"typename\"])\n",
    "        sheet1.write(i+1,4,data[i][\"tag\"])\n",
    "        sheet1.write(i+1,5,data[i][\"url\"])\n",
    "        \n",
    "    f.save(name + '.xls')"
   ]
  },
  {
   "cell_type": "code",
   "execution_count": null,
   "id": "24181188",
   "metadata": {},
   "outputs": [],
   "source": []
  },
  {
   "cell_type": "code",
   "execution_count": null,
   "id": "e731bced",
   "metadata": {},
   "outputs": [],
   "source": [
    "save(data,\"aaa\")"
   ]
  },
  {
   "cell_type": "code",
   "execution_count": null,
   "id": "aa530f7a",
   "metadata": {},
   "outputs": [],
   "source": [
    "keyword = '疾病科普'"
   ]
  },
  {
   "cell_type": "code",
   "execution_count": null,
   "id": "cfe3406e",
   "metadata": {},
   "outputs": [],
   "source": [
    "datalist = []"
   ]
  },
  {
   "cell_type": "code",
   "execution_count": null,
   "id": "ef6df017",
   "metadata": {},
   "outputs": [],
   "source": [
    "prelist = []"
   ]
  },
  {
   "cell_type": "code",
   "execution_count": null,
   "id": "0fc51575",
   "metadata": {},
   "outputs": [],
   "source": [
    "import time\n",
    "import random"
   ]
  },
  {
   "cell_type": "markdown",
   "id": "2deb203c",
   "metadata": {},
   "source": [
    "for i in range(70):\n",
    "    r = requests.get(url,params={\"search_type\":type , \"page_size\":page_size, \"order\":\"pubdate\",\"keyword\":keyword, \"page\":i+1},headers=headers)\n",
    "    data = json.loads(r.text)\n",
    "    data = data[\"data\"]\n",
    "    data = data[\"result\"]\n",
    "    \n",
    "    if prelist == data:\n",
    "        break\n",
    "    datalist.extend(data)\n",
    "    time.sleep(random.random()*3)"
   ]
  },
  {
   "cell_type": "code",
   "execution_count": null,
   "id": "c9cd1080",
   "metadata": {},
   "outputs": [],
   "source": [
    "datalist"
   ]
  },
  {
   "cell_type": "code",
   "execution_count": null,
   "id": "9b02e5af",
   "metadata": {},
   "outputs": [],
   "source": [
    "save(datalist,\"bbb\")"
   ]
  },
  {
   "cell_type": "code",
   "execution_count": null,
   "id": "528c9698",
   "metadata": {},
   "outputs": [],
   "source": [
    "for o in order:\n",
    "    prelist = []\n",
    "    datalist = []\n",
    "    for i in range(70):\n",
    "        r = requests.get(url,params={\"search_type\":type , \"page_size\":page_size, \"order\":o[1],\"keyword\":keyword, \"page\":i+1},headers=headers)\n",
    "        data = json.loads(r.text)\n",
    "        data = data[\"data\"]\n",
    "        data = data[\"result\"]\n",
    "\n",
    "        if prelist == data:\n",
    "            break\n",
    "        datalist.extend(data)\n",
    "        prelist = data\n",
    "        time.sleep(random.random()*3)\n",
    "    save(datalist,o[0])"
   ]
  },
  {
   "cell_type": "code",
   "execution_count": null,
   "id": "071e44af",
   "metadata": {},
   "outputs": [],
   "source": []
  }
 ],
 "metadata": {
  "celltoolbar": "无",
  "kernelspec": {
   "display_name": "Python 3 (ipykernel)",
   "language": "python",
   "name": "python3"
  },
  "language_info": {
   "codemirror_mode": {
    "name": "ipython",
    "version": 3
   },
   "file_extension": ".py",
   "mimetype": "text/x-python",
   "name": "python",
   "nbconvert_exporter": "python",
   "pygments_lexer": "ipython3",
   "version": "3.9.7"
  }
 },
 "nbformat": 4,
 "nbformat_minor": 5
}
